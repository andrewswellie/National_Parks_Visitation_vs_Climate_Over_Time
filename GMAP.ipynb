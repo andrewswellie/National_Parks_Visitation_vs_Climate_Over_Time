{
 "cells": [
  {
   "cell_type": "code",
   "execution_count": 15,
   "metadata": {},
   "outputs": [],
   "source": [
    "import gmaps\n",
    "import pandas as pd\n",
    "\n",
    "\n",
    "# Google developer API key\n",
    "from config import gkey\n",
    "\n",
    "# Configure gmaps\n",
    "gmaps.configure(api_key=gkey)"
   ]
  },
  {
   "cell_type": "code",
   "execution_count": 16,
   "metadata": {
    "scrolled": true
   },
   "outputs": [
    {
     "data": {
      "text/html": [
       "<div>\n",
       "<style scoped>\n",
       "    .dataframe tbody tr th:only-of-type {\n",
       "        vertical-align: middle;\n",
       "    }\n",
       "\n",
       "    .dataframe tbody tr th {\n",
       "        vertical-align: top;\n",
       "    }\n",
       "\n",
       "    .dataframe thead th {\n",
       "        text-align: right;\n",
       "    }\n",
       "</style>\n",
       "<table border=\"1\" class=\"dataframe\">\n",
       "  <thead>\n",
       "    <tr style=\"text-align: right;\">\n",
       "      <th></th>\n",
       "      <th>Park</th>\n",
       "      <th>Year</th>\n",
       "      <th>Month</th>\n",
       "      <th>Temp</th>\n",
       "      <th>Lat</th>\n",
       "      <th>Lng</th>\n",
       "      <th>Visits</th>\n",
       "    </tr>\n",
       "  </thead>\n",
       "  <tbody>\n",
       "    <tr>\n",
       "      <th>0</th>\n",
       "      <td>Acadia National Park</td>\n",
       "      <td>2009</td>\n",
       "      <td>1</td>\n",
       "      <td>21.501818</td>\n",
       "      <td>44.338556</td>\n",
       "      <td>-68.273335</td>\n",
       "      <td>9366</td>\n",
       "    </tr>\n",
       "    <tr>\n",
       "      <th>1</th>\n",
       "      <td>Acadia National Park</td>\n",
       "      <td>2009</td>\n",
       "      <td>2</td>\n",
       "      <td>28.770000</td>\n",
       "      <td>44.338556</td>\n",
       "      <td>-68.273335</td>\n",
       "      <td>9751</td>\n",
       "    </tr>\n",
       "    <tr>\n",
       "      <th>2</th>\n",
       "      <td>Acadia National Park</td>\n",
       "      <td>2009</td>\n",
       "      <td>3</td>\n",
       "      <td>32.956000</td>\n",
       "      <td>44.338556</td>\n",
       "      <td>-68.273335</td>\n",
       "      <td>19258</td>\n",
       "    </tr>\n",
       "    <tr>\n",
       "      <th>3</th>\n",
       "      <td>Acadia National Park</td>\n",
       "      <td>2009</td>\n",
       "      <td>4</td>\n",
       "      <td>45.278000</td>\n",
       "      <td>44.338556</td>\n",
       "      <td>-68.273335</td>\n",
       "      <td>59277</td>\n",
       "    </tr>\n",
       "    <tr>\n",
       "      <th>4</th>\n",
       "      <td>Acadia National Park</td>\n",
       "      <td>2009</td>\n",
       "      <td>5</td>\n",
       "      <td>54.897273</td>\n",
       "      <td>44.338556</td>\n",
       "      <td>-68.273335</td>\n",
       "      <td>129885</td>\n",
       "    </tr>\n",
       "  </tbody>\n",
       "</table>\n",
       "</div>"
      ],
      "text/plain": [
       "                   Park  Year  Month       Temp        Lat        Lng  Visits\n",
       "0  Acadia National Park  2009      1  21.501818  44.338556 -68.273335    9366\n",
       "1  Acadia National Park  2009      2  28.770000  44.338556 -68.273335    9751\n",
       "2  Acadia National Park  2009      3  32.956000  44.338556 -68.273335   19258\n",
       "3  Acadia National Park  2009      4  45.278000  44.338556 -68.273335   59277\n",
       "4  Acadia National Park  2009      5  54.897273  44.338556 -68.273335  129885"
      ]
     },
     "execution_count": 16,
     "metadata": {},
     "output_type": "execute_result"
    }
   ],
   "source": [
    "final_df = pd.read_csv('final_merge_data.csv')\n",
    "final_df.head()"
   ]
  },
  {
   "cell_type": "code",
   "execution_count": 17,
   "metadata": {},
   "outputs": [
    {
     "data": {
      "application/vnd.jupyter.widget-view+json": {
       "model_id": "6f4b17d21db94e5da4fc77eb3d9aa638",
       "version_major": 2,
       "version_minor": 0
      },
      "text/plain": [
       "Figure(layout=FigureLayout(height='420px'))"
      ]
     },
     "metadata": {},
     "output_type": "display_data"
    }
   ],
   "source": [
    "# Store latitude and longitude in locations\n",
    "locations = final_df[[\"Lat\", \"Lng\"]]\n",
    "\n",
    "# Fill NaN values and convert to float\n",
    "#rating = final_df[\"Temp\"].astype(float)\n",
    "\n",
    "# Plot Heatmap\n",
    "#fig = gmaps.figure()\n",
    "\n",
    "# Create heat layer\n",
    "#heat_layer = gmaps.heatmap_layer(locations, weights=rating, \n",
    "                                 #dissipating=False, max_intensity=1000,\n",
    "                                 #point_radius=1)\n",
    "marker_locations = locations\n",
    "markers = gmaps.marker_layer(marker_locations)\n",
    "fig.add_layer(markers)\n",
    "\n",
    "# Add layer\n",
    "#fig.add_layer(heat_layer)\n",
    "\n",
    "# Display figure\n",
    "fig"
   ]
  },
  {
   "cell_type": "code",
   "execution_count": null,
   "metadata": {},
   "outputs": [],
   "source": []
  },
  {
   "cell_type": "code",
   "execution_count": null,
   "metadata": {},
   "outputs": [],
   "source": []
  },
  {
   "cell_type": "code",
   "execution_count": null,
   "metadata": {},
   "outputs": [],
   "source": []
  },
  {
   "cell_type": "code",
   "execution_count": null,
   "metadata": {},
   "outputs": [],
   "source": []
  },
  {
   "cell_type": "code",
   "execution_count": null,
   "metadata": {},
   "outputs": [],
   "source": []
  },
  {
   "cell_type": "code",
   "execution_count": null,
   "metadata": {},
   "outputs": [],
   "source": []
  }
 ],
 "metadata": {
  "kernelspec": {
   "display_name": "Python 3",
   "language": "python",
   "name": "python3"
  },
  "language_info": {
   "codemirror_mode": {
    "name": "ipython",
    "version": 3
   },
   "file_extension": ".py",
   "mimetype": "text/x-python",
   "name": "python",
   "nbconvert_exporter": "python",
   "pygments_lexer": "ipython3",
   "version": "3.7.2"
  }
 },
 "nbformat": 4,
 "nbformat_minor": 2
}
