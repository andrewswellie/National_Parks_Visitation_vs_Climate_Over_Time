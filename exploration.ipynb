{
 "cells": [
  {
   "cell_type": "code",
   "execution_count": 23,
   "metadata": {},
   "outputs": [],
   "source": [
    "import pandas as pd\n",
    "import matplotlib.pyplot as plt\n",
    "from scipy import stats\n"
   ]
  },
  {
   "cell_type": "code",
   "execution_count": 2,
   "metadata": {},
   "outputs": [
    {
     "data": {
      "text/html": [
       "<div>\n",
       "<style scoped>\n",
       "    .dataframe tbody tr th:only-of-type {\n",
       "        vertical-align: middle;\n",
       "    }\n",
       "\n",
       "    .dataframe tbody tr th {\n",
       "        vertical-align: top;\n",
       "    }\n",
       "\n",
       "    .dataframe thead th {\n",
       "        text-align: right;\n",
       "    }\n",
       "</style>\n",
       "<table border=\"1\" class=\"dataframe\">\n",
       "  <thead>\n",
       "    <tr style=\"text-align: right;\">\n",
       "      <th></th>\n",
       "      <th>Park</th>\n",
       "      <th>Year</th>\n",
       "      <th>Month</th>\n",
       "      <th>Temp</th>\n",
       "      <th>Lat</th>\n",
       "      <th>Lng</th>\n",
       "      <th>Visits</th>\n",
       "    </tr>\n",
       "  </thead>\n",
       "  <tbody>\n",
       "    <tr>\n",
       "      <th>0</th>\n",
       "      <td>Acadia National Park</td>\n",
       "      <td>2009</td>\n",
       "      <td>1</td>\n",
       "      <td>21.501818</td>\n",
       "      <td>44.338556</td>\n",
       "      <td>-68.273335</td>\n",
       "      <td>9366</td>\n",
       "    </tr>\n",
       "    <tr>\n",
       "      <th>1</th>\n",
       "      <td>Acadia National Park</td>\n",
       "      <td>2009</td>\n",
       "      <td>2</td>\n",
       "      <td>28.770000</td>\n",
       "      <td>44.338556</td>\n",
       "      <td>-68.273335</td>\n",
       "      <td>9751</td>\n",
       "    </tr>\n",
       "    <tr>\n",
       "      <th>2</th>\n",
       "      <td>Acadia National Park</td>\n",
       "      <td>2009</td>\n",
       "      <td>3</td>\n",
       "      <td>32.956000</td>\n",
       "      <td>44.338556</td>\n",
       "      <td>-68.273335</td>\n",
       "      <td>19258</td>\n",
       "    </tr>\n",
       "    <tr>\n",
       "      <th>3</th>\n",
       "      <td>Acadia National Park</td>\n",
       "      <td>2009</td>\n",
       "      <td>4</td>\n",
       "      <td>45.278000</td>\n",
       "      <td>44.338556</td>\n",
       "      <td>-68.273335</td>\n",
       "      <td>59277</td>\n",
       "    </tr>\n",
       "    <tr>\n",
       "      <th>4</th>\n",
       "      <td>Acadia National Park</td>\n",
       "      <td>2009</td>\n",
       "      <td>5</td>\n",
       "      <td>54.897273</td>\n",
       "      <td>44.338556</td>\n",
       "      <td>-68.273335</td>\n",
       "      <td>129885</td>\n",
       "    </tr>\n",
       "  </tbody>\n",
       "</table>\n",
       "</div>"
      ],
      "text/plain": [
       "                   Park  Year  Month       Temp        Lat        Lng  Visits\n",
       "0  Acadia National Park  2009      1  21.501818  44.338556 -68.273335    9366\n",
       "1  Acadia National Park  2009      2  28.770000  44.338556 -68.273335    9751\n",
       "2  Acadia National Park  2009      3  32.956000  44.338556 -68.273335   19258\n",
       "3  Acadia National Park  2009      4  45.278000  44.338556 -68.273335   59277\n",
       "4  Acadia National Park  2009      5  54.897273  44.338556 -68.273335  129885"
      ]
     },
     "execution_count": 2,
     "metadata": {},
     "output_type": "execute_result"
    }
   ],
   "source": [
    "file = \"final_merge_data.csv\"\n",
    "data = pd.read_csv(file)\n",
    "data.head()"
   ]
  },
  {
   "cell_type": "code",
   "execution_count": 3,
   "metadata": {},
   "outputs": [
    {
     "data": {
      "text/html": [
       "<div>\n",
       "<style scoped>\n",
       "    .dataframe tbody tr th:only-of-type {\n",
       "        vertical-align: middle;\n",
       "    }\n",
       "\n",
       "    .dataframe tbody tr th {\n",
       "        vertical-align: top;\n",
       "    }\n",
       "\n",
       "    .dataframe thead th {\n",
       "        text-align: right;\n",
       "    }\n",
       "</style>\n",
       "<table border=\"1\" class=\"dataframe\">\n",
       "  <thead>\n",
       "    <tr style=\"text-align: right;\">\n",
       "      <th></th>\n",
       "      <th>Year</th>\n",
       "      <th>Month</th>\n",
       "      <th>Temp</th>\n",
       "      <th>Lat</th>\n",
       "      <th>Lng</th>\n",
       "      <th>Visits</th>\n",
       "    </tr>\n",
       "  </thead>\n",
       "  <tbody>\n",
       "    <tr>\n",
       "      <th>0</th>\n",
       "      <td>2009</td>\n",
       "      <td>6.5</td>\n",
       "      <td>51.435499</td>\n",
       "      <td>41.634349</td>\n",
       "      <td>-106.078574</td>\n",
       "      <td>304545.641667</td>\n",
       "    </tr>\n",
       "    <tr>\n",
       "      <th>1</th>\n",
       "      <td>2010</td>\n",
       "      <td>6.5</td>\n",
       "      <td>51.640536</td>\n",
       "      <td>41.634349</td>\n",
       "      <td>-106.078574</td>\n",
       "      <td>310279.191667</td>\n",
       "    </tr>\n",
       "    <tr>\n",
       "      <th>2</th>\n",
       "      <td>2011</td>\n",
       "      <td>6.5</td>\n",
       "      <td>50.834949</td>\n",
       "      <td>41.634349</td>\n",
       "      <td>-106.078574</td>\n",
       "      <td>303644.341667</td>\n",
       "    </tr>\n",
       "    <tr>\n",
       "      <th>3</th>\n",
       "      <td>2012</td>\n",
       "      <td>6.5</td>\n",
       "      <td>53.582684</td>\n",
       "      <td>41.634349</td>\n",
       "      <td>-106.078574</td>\n",
       "      <td>314456.575000</td>\n",
       "    </tr>\n",
       "    <tr>\n",
       "      <th>4</th>\n",
       "      <td>2013</td>\n",
       "      <td>6.5</td>\n",
       "      <td>52.014109</td>\n",
       "      <td>41.634349</td>\n",
       "      <td>-106.078574</td>\n",
       "      <td>306805.950000</td>\n",
       "    </tr>\n",
       "    <tr>\n",
       "      <th>5</th>\n",
       "      <td>2014</td>\n",
       "      <td>6.5</td>\n",
       "      <td>52.758805</td>\n",
       "      <td>41.634349</td>\n",
       "      <td>-106.078574</td>\n",
       "      <td>331779.508333</td>\n",
       "    </tr>\n",
       "    <tr>\n",
       "      <th>6</th>\n",
       "      <td>2015</td>\n",
       "      <td>6.5</td>\n",
       "      <td>53.514632</td>\n",
       "      <td>41.634349</td>\n",
       "      <td>-106.078574</td>\n",
       "      <td>365641.841667</td>\n",
       "    </tr>\n",
       "    <tr>\n",
       "      <th>7</th>\n",
       "      <td>2016</td>\n",
       "      <td>6.5</td>\n",
       "      <td>53.338299</td>\n",
       "      <td>41.634349</td>\n",
       "      <td>-106.078574</td>\n",
       "      <td>402431.041667</td>\n",
       "    </tr>\n",
       "    <tr>\n",
       "      <th>8</th>\n",
       "      <td>2017</td>\n",
       "      <td>6.5</td>\n",
       "      <td>53.148048</td>\n",
       "      <td>41.634349</td>\n",
       "      <td>-106.078574</td>\n",
       "      <td>404352.925000</td>\n",
       "    </tr>\n",
       "    <tr>\n",
       "      <th>9</th>\n",
       "      <td>2018</td>\n",
       "      <td>6.5</td>\n",
       "      <td>52.873963</td>\n",
       "      <td>41.634349</td>\n",
       "      <td>-106.078574</td>\n",
       "      <td>399459.558333</td>\n",
       "    </tr>\n",
       "  </tbody>\n",
       "</table>\n",
       "</div>"
      ],
      "text/plain": [
       "   Year  Month       Temp        Lat         Lng         Visits\n",
       "0  2009    6.5  51.435499  41.634349 -106.078574  304545.641667\n",
       "1  2010    6.5  51.640536  41.634349 -106.078574  310279.191667\n",
       "2  2011    6.5  50.834949  41.634349 -106.078574  303644.341667\n",
       "3  2012    6.5  53.582684  41.634349 -106.078574  314456.575000\n",
       "4  2013    6.5  52.014109  41.634349 -106.078574  306805.950000\n",
       "5  2014    6.5  52.758805  41.634349 -106.078574  331779.508333\n",
       "6  2015    6.5  53.514632  41.634349 -106.078574  365641.841667\n",
       "7  2016    6.5  53.338299  41.634349 -106.078574  402431.041667\n",
       "8  2017    6.5  53.148048  41.634349 -106.078574  404352.925000\n",
       "9  2018    6.5  52.873963  41.634349 -106.078574  399459.558333"
      ]
     },
     "execution_count": 3,
     "metadata": {},
     "output_type": "execute_result"
    }
   ],
   "source": [
    "by_year_mean = data.groupby([\"Year\"]).mean()\n",
    "by_year_mean = by_year_mean.reset_index()\n",
    "\n",
    "\n",
    "by_year_sum = data.groupby([\"Year\"]).sum()\n",
    "by_year_sum = by_year_sum.reset_index()\n",
    "#by_year_sum\n",
    "\n",
    "by_year_mean"
   ]
  },
  {
   "cell_type": "code",
   "execution_count": 4,
   "metadata": {},
   "outputs": [
    {
     "data": {
      "image/png": "[encoded data removed]",
      "text/plain": [
       "<Figure size 432x288 with 1 Axes>"
      ]
     },
     "metadata": {
      "needs_background": "light"
     },
     "output_type": "display_data"
    }
   ],
   "source": [
    "#plt.bar(by_year_sum[\"Year\"], by_year_sum[\"Visits\"])\n",
    "plt.plot(by_year_mean[\"Year\"], by_year_mean[\"Temp\"])\n",
    "\n",
    "plt.show()"
   ]
  },
  {
   "cell_type": "code",
   "execution_count": 5,
   "metadata": {},
   "outputs": [
    {
     "data": {
      "text/html": [
       "<div>\n",
       "<style scoped>\n",
       "    .dataframe tbody tr th:only-of-type {\n",
       "        vertical-align: middle;\n",
       "    }\n",
       "\n",
       "    .dataframe tbody tr th {\n",
       "        vertical-align: top;\n",
       "    }\n",
       "\n",
       "    .dataframe thead th {\n",
       "        text-align: right;\n",
       "    }\n",
       "</style>\n",
       "<table border=\"1\" class=\"dataframe\">\n",
       "  <thead>\n",
       "    <tr style=\"text-align: right;\">\n",
       "      <th></th>\n",
       "      <th>Year</th>\n",
       "      <th>Month</th>\n",
       "      <th>Temp</th>\n",
       "      <th>Lat</th>\n",
       "      <th>Lng</th>\n",
       "      <th>Visits</th>\n",
       "      <th>Rolling_2_yr</th>\n",
       "    </tr>\n",
       "  </thead>\n",
       "  <tbody>\n",
       "    <tr>\n",
       "      <th>0</th>\n",
       "      <td>2009</td>\n",
       "      <td>6.5</td>\n",
       "      <td>51.435499</td>\n",
       "      <td>41.634349</td>\n",
       "      <td>-106.078574</td>\n",
       "      <td>304545.641667</td>\n",
       "      <td>NaN</td>\n",
       "    </tr>\n",
       "    <tr>\n",
       "      <th>1</th>\n",
       "      <td>2010</td>\n",
       "      <td>6.5</td>\n",
       "      <td>51.640536</td>\n",
       "      <td>41.634349</td>\n",
       "      <td>-106.078574</td>\n",
       "      <td>310279.191667</td>\n",
       "      <td>51.538018</td>\n",
       "    </tr>\n",
       "    <tr>\n",
       "      <th>2</th>\n",
       "      <td>2011</td>\n",
       "      <td>6.5</td>\n",
       "      <td>50.834949</td>\n",
       "      <td>41.634349</td>\n",
       "      <td>-106.078574</td>\n",
       "      <td>303644.341667</td>\n",
       "      <td>51.237742</td>\n",
       "    </tr>\n",
       "    <tr>\n",
       "      <th>3</th>\n",
       "      <td>2012</td>\n",
       "      <td>6.5</td>\n",
       "      <td>53.582684</td>\n",
       "      <td>41.634349</td>\n",
       "      <td>-106.078574</td>\n",
       "      <td>314456.575000</td>\n",
       "      <td>52.208816</td>\n",
       "    </tr>\n",
       "    <tr>\n",
       "      <th>4</th>\n",
       "      <td>2013</td>\n",
       "      <td>6.5</td>\n",
       "      <td>52.014109</td>\n",
       "      <td>41.634349</td>\n",
       "      <td>-106.078574</td>\n",
       "      <td>306805.950000</td>\n",
       "      <td>52.798397</td>\n",
       "    </tr>\n",
       "    <tr>\n",
       "      <th>5</th>\n",
       "      <td>2014</td>\n",
       "      <td>6.5</td>\n",
       "      <td>52.758805</td>\n",
       "      <td>41.634349</td>\n",
       "      <td>-106.078574</td>\n",
       "      <td>331779.508333</td>\n",
       "      <td>52.386457</td>\n",
       "    </tr>\n",
       "    <tr>\n",
       "      <th>6</th>\n",
       "      <td>2015</td>\n",
       "      <td>6.5</td>\n",
       "      <td>53.514632</td>\n",
       "      <td>41.634349</td>\n",
       "      <td>-106.078574</td>\n",
       "      <td>365641.841667</td>\n",
       "      <td>53.136718</td>\n",
       "    </tr>\n",
       "    <tr>\n",
       "      <th>7</th>\n",
       "      <td>2016</td>\n",
       "      <td>6.5</td>\n",
       "      <td>53.338299</td>\n",
       "      <td>41.634349</td>\n",
       "      <td>-106.078574</td>\n",
       "      <td>402431.041667</td>\n",
       "      <td>53.426465</td>\n",
       "    </tr>\n",
       "    <tr>\n",
       "      <th>8</th>\n",
       "      <td>2017</td>\n",
       "      <td>6.5</td>\n",
       "      <td>53.148048</td>\n",
       "      <td>41.634349</td>\n",
       "      <td>-106.078574</td>\n",
       "      <td>404352.925000</td>\n",
       "      <td>53.243173</td>\n",
       "    </tr>\n",
       "    <tr>\n",
       "      <th>9</th>\n",
       "      <td>2018</td>\n",
       "      <td>6.5</td>\n",
       "      <td>52.873963</td>\n",
       "      <td>41.634349</td>\n",
       "      <td>-106.078574</td>\n",
       "      <td>399459.558333</td>\n",
       "      <td>53.011006</td>\n",
       "    </tr>\n",
       "  </tbody>\n",
       "</table>\n",
       "</div>"
      ],
      "text/plain": [
       "   Year  Month       Temp        Lat         Lng         Visits  Rolling_2_yr\n",
       "0  2009    6.5  51.435499  41.634349 -106.078574  304545.641667           NaN\n",
       "1  2010    6.5  51.640536  41.634349 -106.078574  310279.191667     51.538018\n",
       "2  2011    6.5  50.834949  41.634349 -106.078574  303644.341667     51.237742\n",
       "3  2012    6.5  53.582684  41.634349 -106.078574  314456.575000     52.208816\n",
       "4  2013    6.5  52.014109  41.634349 -106.078574  306805.950000     52.798397\n",
       "5  2014    6.5  52.758805  41.634349 -106.078574  331779.508333     52.386457\n",
       "6  2015    6.5  53.514632  41.634349 -106.078574  365641.841667     53.136718\n",
       "7  2016    6.5  53.338299  41.634349 -106.078574  402431.041667     53.426465\n",
       "8  2017    6.5  53.148048  41.634349 -106.078574  404352.925000     53.243173\n",
       "9  2018    6.5  52.873963  41.634349 -106.078574  399459.558333     53.011006"
      ]
     },
     "execution_count": 5,
     "metadata": {},
     "output_type": "execute_result"
    }
   ],
   "source": [
    "rolling_temp = by_year_mean[\"Temp\"]\n",
    "rolling = rolling_temp.rolling(2).mean()\n",
    "\n",
    "by_year_mean[\"Rolling_2_yr\"] = rolling\n",
    "\n",
    "by_year_mean\n",
    "\n",
    "\n"
   ]
  },
  {
   "cell_type": "code",
   "execution_count": 6,
   "metadata": {},
   "outputs": [
    {
     "data": {
      "image/png": "[encoded data removed]",
      "text/plain": [
       "<Figure size 432x288 with 1 Axes>"
      ]
     },
     "metadata": {
      "needs_background": "light"
     },
     "output_type": "display_data"
    }
   ],
   "source": [
    "by_year_mean\n",
    "\n",
    "plt.scatter(by_year_mean[\"Year\"], by_year_mean[\"Rolling_2_yr\"], marker=\"o\")\n",
    "plt.ylabel(\"Average Temperature (F)\")\n",
    "plt.xlabel(\"Year\")\n",
    "plt.title(\"Rolling Two Year Avg Temperature\")\n",
    "plt.ylim(50,55)\n",
    "plt.grid()\n",
    "plt.show()"
   ]
  },
  {
   "cell_type": "code",
   "execution_count": 7,
   "metadata": {},
   "outputs": [
    {
     "data": {
      "image/png": "[encoded data removed]",
      "text/plain": [
       "<Figure size 432x288 with 1 Axes>"
      ]
     },
     "metadata": {
      "needs_background": "light"
     },
     "output_type": "display_data"
    }
   ],
   "source": [
    "plt.scatter(data[\"Month\"], data[\"Visits\"], marker=\"o\")\n",
    "plt.show()\n",
    "\n"
   ]
  },
  {
   "cell_type": "code",
   "execution_count": 32,
   "metadata": {},
   "outputs": [
    {
     "data": {
      "image/png": "[encoded data removed]",
      "text/plain": [
       "<Figure size 432x288 with 1 Axes>"
      ]
     },
     "metadata": {
      "needs_background": "light"
     },
     "output_type": "display_data"
    }
   ],
   "source": [
    "plt.scatter(by_year_mean[\"Year\"], by_year_mean[\"Rolling_2_yr\"], marker=\"o\", c='r')\n",
    "#plt.scatter(by_year_mean[\"Year\"], by_year_mean[\"Visits\"] / 6000, marker=\"o\", c = 'b')\n",
    "plt.ylabel(\"Average Temperature (F)\")\n",
    "plt.xlabel(\"Year\")\n",
    "plt.title(\"Rolling Two Year Avg Temperature\")\n",
    "plt.ylim(50,55)\n",
    "plt.grid()\n",
    "\n",
    "a_slope, a_int, a_r, a_p, a_std_err = stats.linregress(by_year_mean[\"Year\"], by_year_mean[\"Rolling_2_yr\"])\n",
    "a_fit = a_slope * by_year_mean[\"Year\"] + a_int\n",
    "\n",
    "plt.plot(by_year_mean[\"Year\"], a_fit, \"b--\", linewidth=1)\n",
    "\n",
    "plt.show()\n",
    "\n"
   ]
  },
  {
   "cell_type": "code",
   "execution_count": 36,
   "metadata": {},
   "outputs": [
    {
     "data": {
      "image/png": "[encoded data removed]",
      "text/plain": [
       "<Figure size 432x288 with 1 Axes>"
      ]
     },
     "metadata": {
      "needs_background": "light"
     },
     "output_type": "display_data"
    }
   ],
   "source": [
    "plt.scatter(by_year_mean[\"Year\"], by_year_mean[\"Visits\"], marker=\"o\", c = 'b')\n",
    "plt.ylabel(\"Average Total Visitors\")\n",
    "plt.xlabel(\"Year\")\n",
    "plt.title(\"Average Visits per Year\")\n",
    "plt.ylim(200000,500000)\n",
    "plt.grid()\n",
    "\n",
    "m_slope, m_int, m_r, m_p, m_std_err = stats.linregress(by_year_mean[\"Year\"], by_year_mean[\"Visits\"])\n",
    "m_fit = m_slope * by_year_mean[\"Year\"] + m_int\n",
    "\n",
    "plt.plot(by_year_mean[\"Year\"], m_fit, \"b--\", linewidth=1)\n",
    "\n",
    "plt.show()"
   ]
  },
  {
   "cell_type": "code",
   "execution_count": 59,
   "metadata": {},
   "outputs": [
    {
     "data": {
      "image/png": "[encoded data removed]",
      "text/plain": [
       "<Figure size 432x288 with 1 Axes>"
      ]
     },
     "metadata": {
      "needs_background": "light"
     },
     "output_type": "display_data"
    }
   ],
   "source": [
    "plt.scatter(by_year_mean[\"Year\"], by_year_mean[\"Rolling_2_yr\"], marker=\"o\", c='r')\n",
    "#plt.scatter(by_year_mean[\"Year\"], by_year_mean[\"Visits\"] / 6000, marker=\"o\", c = 'b')\n",
    "plt.ylabel(\"Average Temperature (F)\")\n",
    "plt.xlabel(\"Year\")\n",
    "plt.title(\"Rolling Two Year Avg Temperature\")\n",
    "plt.ylim(50,55)\n",
    "plt.grid()\n",
    "\n",
    "a_slope, a_int, a_r, a_p, a_std_err = stats.linregress(by_year_mean.loc[(by_year_mean[\"Year\"] >= 2010)][\"Year\"],\n",
    "                                                       by_year_mean.loc[(by_year_mean[\"Year\"] >= 2010)][\"Rolling_2_yr\"])\n",
    "a_fit = a_slope * by_year_mean[\"Year\"] + a_int\n",
    "\n",
    "plt.plot(by_year_mean[\"Year\"], a_fit, \"r--\", linewidth=1)\n",
    "\n",
    "plt.show()\n"
   ]
  },
  {
   "cell_type": "code",
   "execution_count": 53,
   "metadata": {},
   "outputs": [
    {
     "data": {
      "text/plain": [
       "1    2010\n",
       "2    2011\n",
       "3    2012\n",
       "4    2013\n",
       "5    2014\n",
       "6    2015\n",
       "7    2016\n",
       "8    2017\n",
       "9    2018\n",
       "Name: Year, dtype: int64"
      ]
     },
     "execution_count": 53,
     "metadata": {},
     "output_type": "execute_result"
    }
   ],
   "source": [
    "#by_year_mean[\"Year\"].tolist()\n",
    "\n",
    "by_year_mean.loc[(by_year_mean[\"Year\"] >= 2010)][\"Year\"]"
   ]
  },
  {
   "cell_type": "code",
   "execution_count": null,
   "metadata": {},
   "outputs": [],
   "source": []
  },
  {
   "cell_type": "code",
   "execution_count": null,
   "metadata": {},
   "outputs": [],
   "source": []
  },
  {
   "cell_type": "code",
   "execution_count": null,
   "metadata": {},
   "outputs": [],
   "source": []
  }
 ],
 "metadata": {
  "kernelspec": {
   "display_name": "Python 3",
   "language": "python",
   "name": "python3"
  },
  "language_info": {
   "codemirror_mode": {
    "name": "ipython",
    "version": 3
   },
   "file_extension": ".py",
   "mimetype": "text/x-python",
   "name": "python",
   "nbconvert_exporter": "python",
   "pygments_lexer": "ipython3",
   "version": "3.6.7"
  }
 },
 "nbformat": 4,
 "nbformat_minor": 2
}
